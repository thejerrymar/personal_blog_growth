{
 "cells": [
  {
   "cell_type": "markdown",
   "id": "f91b8253",
   "metadata": {},
   "source": [
    "# A/B Testing for Blog Post Engagement Time"
   ]
  },
  {
   "cell_type": "markdown",
   "id": "954ea14d",
   "metadata": {},
   "source": [
    "While my blog has grown exponentially in monthly sessions and views, my blog's engagement time has remained steady around the 1 minute mark for the last 2 years. Engagement time is a measurement of how much time a user spends on my blog.\n",
    "\n",
    "I want to increase time spent on my blog. \n",
    "\n",
    "I recently wrote an 3-day itinerary for Busan. From online research, one of the ways I can increase engagement time is by including a Table of Contents for my longer posts. \n",
    "\n",
    "I used a power analysis to determine the sample size. With a statistical power of 80%, significance of 10%, and effect of 0.5. I would need at least 120 participants. Plus, each participant would need to be interested in traveling to Busan or else it wouldn't make sense for them to read the blog. I personally don't know 120 people who would be interested in going to Busan so I tried to ask as many people as I could. \n",
    "\n",
    "I asked roughly 70 people to engage in this study. I split the sample size into two groups - one group got the blog post with a table of contents and the other group got one without. The following code was used to randomly generate the two groups and then analyze the time results."
   ]
  },
  {
   "cell_type": "code",
   "execution_count": 1,
   "id": "6c13ca67",
   "metadata": {},
   "outputs": [],
   "source": [
    "# import required libraries\n",
    "\n",
    "import pandas as pd\n",
    "import numpy as np\n",
    "from scipy import stats\n",
    "import random \n",
    "\n",
    "import seaborn as sns \n",
    "import matplotlib.pyplot as plt "
   ]
  },
  {
   "cell_type": "markdown",
   "id": "01f428a3",
   "metadata": {},
   "source": [
    "### Split the sample into two groups using random"
   ]
  },
  {
   "cell_type": "markdown",
   "id": "1cf18ac0",
   "metadata": {},
   "source": [
    "Randomly place participants into 2 groups. \n",
    "Since there is personal information on the excel file, I will not include the file when uploading this to github. "
   ]
  },
  {
   "cell_type": "code",
   "execution_count": 2,
   "id": "a2785c0a",
   "metadata": {},
   "outputs": [],
   "source": [
    "sample_data = pd.read_excel('sample_info.xlsx')\n",
    "\n",
    "### prep the pandas df ###\n",
    "\n",
    "# drop the participant number column in python for easier data manipulation\n",
    "sample_data = sample_data.drop(columns='Participant_Number')\n",
    "\n",
    "# set the index column to start at 1\n",
    "sample_data.index += 1\n",
    "\n",
    "### create two groups at random for the A/B test from the pandas sample_data df ###\n",
    "\n",
    "# to make this reproducible, add a random seed from numpy\n",
    "np.random.seed(0)\n",
    "\n",
    "# Create 2 groups:\n",
    "# Group A = no table of contents. so regular post style. set group A = 0\n",
    "# Group B = with table of contents. new post style. set group B = 1\n",
    "\n",
    "# determine the group size from the list of people\n",
    "group_size = int(len(sample_data) / 2)\n",
    "\n",
    "# assign each person to group A or group B\n",
    "assignments = np.array([0]*group_size + [1]*group_size) # concatenate the two groups together\n",
    "np.random.shuffle(assignments)\n",
    "\n",
    "# Add the assignments to dataframe\n",
    "sample_data['group'] = assignments\n",
    "\n",
    "# make a sep. column for who is in which group \n",
    "sample_data['group_details'] = sample_data['group'].map({0:'groupA_noTOC',1:'groupB_TOC'})\n",
    "\n",
    "# print out string format of people in each group to send in email\n",
    "# string format will be email1; email2; email3;...\n",
    "\n",
    "groupA = sample_data[sample_data['group']==0]['Email']\n",
    "groupA_list_str = ';'.join(map(str,groupA))\n",
    "\n",
    "groupB = sample_data[sample_data['group']==1]['Email']\n",
    "groupB_list_str = ';'.join(map(str,groupB))"
   ]
  },
  {
   "cell_type": "markdown",
   "id": "a5b54543",
   "metadata": {},
   "source": [
    "### One sided T-Test"
   ]
  },
  {
   "cell_type": "code",
   "execution_count": 3,
   "id": "dbb45252",
   "metadata": {},
   "outputs": [
    {
     "name": "stdout",
     "output_type": "stream",
     "text": [
      "<class 'pandas.core.frame.DataFrame'>\n",
      "RangeIndex: 67 entries, 0 to 66\n",
      "Data columns (total 4 columns):\n",
      " #   Column                Non-Null Count  Dtype  \n",
      "---  ------                --------------  -----  \n",
      " 0   Name                  67 non-null     object \n",
      " 1   group                 67 non-null     object \n",
      " 2   group_details         67 non-null     object \n",
      " 3   Read_times (minutes)  51 non-null     float64\n",
      "dtypes: float64(1), object(3)\n",
      "memory usage: 2.2+ KB\n",
      "None\n"
     ]
    }
   ],
   "source": [
    "sample_data_results_df = pd.read_excel('sample_data_results.xlsx')\n",
    "\n",
    "print(sample_data_results_df.info())"
   ]
  },
  {
   "cell_type": "markdown",
   "id": "7888276a",
   "metadata": {},
   "source": [
    "As you can tell, I didn't get everybody's response back. Let's remove all the empty rows. "
   ]
  },
  {
   "cell_type": "code",
   "execution_count": 4,
   "id": "b5241958",
   "metadata": {},
   "outputs": [
    {
     "name": "stdout",
     "output_type": "stream",
     "text": [
      "<class 'pandas.core.frame.DataFrame'>\n",
      "Index: 51 entries, 0 to 66\n",
      "Data columns (total 4 columns):\n",
      " #   Column                Non-Null Count  Dtype  \n",
      "---  ------                --------------  -----  \n",
      " 0   Name                  51 non-null     object \n",
      " 1   group                 51 non-null     object \n",
      " 2   group_details         51 non-null     object \n",
      " 3   Read_times (minutes)  51 non-null     float64\n",
      "dtypes: float64(1), object(3)\n",
      "memory usage: 2.0+ KB\n",
      "None\n"
     ]
    }
   ],
   "source": [
    "sample_data_results_df = sample_data_results_df.dropna(axis=0)\n",
    "\n",
    "print(sample_data_results_df.info())"
   ]
  },
  {
   "cell_type": "markdown",
   "id": "709510f1",
   "metadata": {},
   "source": [
    "Let's plot the distribution of read times for each group.\n",
    "\n",
    "Group A will be the control group. The control group won't have a table of contents.\n",
    "Group B will have the table of contents. "
   ]
  },
  {
   "cell_type": "code",
   "execution_count": 13,
   "id": "61ee756d",
   "metadata": {},
   "outputs": [
    {
     "data": {
      "image/png": "[encoded data removed]",
      "text/plain": [
       "<Figure size 640x480 with 1 Axes>"
      ]
     },
     "metadata": {},
     "output_type": "display_data"
    }
   ],
   "source": [
    "sns.boxplot(data=sample_data_results_df, x='Read_times (minutes)', y='group', orient='h')\n",
    "plt.title('Read time (minutes) distribution For Group A (No TOC) and Group B (TOC)')\n",
    "plt.xlabel('Read Times (Minutes)')\n",
    "plt.ylabel('Group')\n",
    "plt.show()"
   ]
  },
  {
   "cell_type": "markdown",
   "id": "c83e3f58",
   "metadata": {},
   "source": [
    "Both group A and group B have similar median read times, suggesting that the typical read time is comparable between the two groups. \n",
    "\n",
    "The interquartile ranges (boxes) have similar widths, meaning that the variability in the central tendency is about the same for both groups.\n",
    "\n",
    "Both also have outliers with group A having a larger outlier. \n",
    "\n",
    "Group A also has a larger spread of read times as shown by the longer whiskers. \n",
    "\n",
    "Since Group A has a larger spread and larger outliers, this suggests that there are some unusually longer readers in group A. "
   ]
  },
  {
   "cell_type": "code",
   "execution_count": 24,
   "id": "79473535",
   "metadata": {},
   "outputs": [
    {
     "data": {
      "image/png": "[encoded data removed]",
      "text/plain": [
       "<Figure size 1000x500 with 2 Axes>"
      ]
     },
     "metadata": {},
     "output_type": "display_data"
    }
   ],
   "source": [
    "# lets plot the histograms \n",
    "\n",
    "groupA = sample_data_results_df[sample_data_results_df['group']=='A']\n",
    "groupB = sample_data_results_df[sample_data_results_df['group']=='B']\n",
    "\n",
    "fig, axes = plt.subplots(1,2,figsize=(10,5))\n",
    "\n",
    "sns.histplot(data=groupA, x='Read_times (minutes)', bins=25, ax=axes[0])\n",
    "axes[0].set_title('Histogram of Read Times for Group A (no TOC)')\n",
    "axes[0].set_xlabel('Read Times (minutes)')\n",
    "\n",
    "sns.histplot(data=groupB, x='Read_times (minutes)', bins=25, ax=axes[1])\n",
    "axes[1].set_title('Histogram of Read Times for Group B (has TOC)')\n",
    "axes[1].set_xlabel('Read Times (minutes)')\n",
    "\n",
    "plt.tight_layout()\n",
    "plt.show()"
   ]
  },
  {
   "cell_type": "markdown",
   "id": "55817838",
   "metadata": {},
   "source": [
    "There are 2 readers in group A that spent more than 20 minutes on the blog while there's only 1 in group B. Since there are more outliers in group A, group A shows a slight right skew in the data while group B looks a bit more symmetrical and closer to a normal distribution \n",
    "\n",
    "Both graphs suggest that most of the readers spent between 7-10 minutes on the blog post. \n",
    "\n",
    "Since I am running a t-test, I am assuming that the data is roughly normally distributed. Outliers can make the distribution non-normal. Some of the outliers in each group are slow readers (they told me when they responded back to me with their read times). Now in real life, I won't know my subjects, but since their reading skills don't have anything to do with the table of contents, I will remove their read times from the sample.\n",
    "\n",
    "Since there are no outliers on the lower side of the distribution, we will just look at those who have read times > Q3 + 1.5 * Q1"
   ]
  },
  {
   "cell_type": "code",
   "execution_count": 26,
   "id": "6d7a5eed",
   "metadata": {},
   "outputs": [
    {
     "name": "stdout",
     "output_type": "stream",
     "text": [
      "upper bound times for group A readers is:  21.322916666666664\n",
      "upper bound times for group B readers is:  19.708333333333336\n"
     ]
    }
   ],
   "source": [
    "q1_groupA = np.percentile(groupA['Read_times (minutes)'], 25)\n",
    "q3_groupA = np.percentile(groupA['Read_times (minutes)'], 75)\n",
    "IQR_A = q3_groupA - q1_groupA\n",
    "upper_boundA = q3_groupA + 1.5*IQR_A\n",
    "print(\"upper bound times for group A readers is: \", upper_boundA)\n",
    "\n",
    "q1_groupB = np.percentile(groupB['Read_times (minutes)'], 25)\n",
    "q3_groupB = np.percentile(groupB['Read_times (minutes)'], 75)\n",
    "IQR_B = q3_groupB - q1_groupB\n",
    "upper_boundB = q3_groupB + 1.5*IQR_B\n",
    "print(\"upper bound times for group B readers is: \", upper_boundB)\n"
   ]
  },
  {
   "cell_type": "code",
   "execution_count": 28,
   "id": "aedabcfd",
   "metadata": {},
   "outputs": [],
   "source": [
    "# remove the outliers from each group\n",
    "\n",
    "groupA = groupA[groupA['Read_times (minutes)'] <= upper_boundA]\n",
    "groupB = groupB[groupB['Read_times (minutes)'] <= upper_boundB]"
   ]
  },
  {
   "cell_type": "code",
   "execution_count": 33,
   "id": "10db5e60",
   "metadata": {},
   "outputs": [
    {
     "name": "stdout",
     "output_type": "stream",
     "text": [
      "Group A stats: \n",
      "\n",
      "count    25.000000\n",
      "mean      9.892167\n",
      "std       3.839716\n",
      "min       4.000000\n",
      "25%       7.233333\n",
      "50%       8.750000\n",
      "75%      12.566667\n",
      "max      20.000000\n",
      "Name: Read_times (minutes), dtype: float64\n",
      "\n",
      "Group B stats: \n",
      "\n",
      "count    24.000000\n",
      "mean      9.523396\n",
      "std       3.379409\n",
      "min       3.416667\n",
      "25%       6.958333\n",
      "50%       8.830750\n",
      "75%      11.933333\n",
      "max      15.000000\n",
      "Name: Read_times (minutes), dtype: float64\n"
     ]
    }
   ],
   "source": [
    "# print out the mean read time and standard deviations for each group\n",
    "\n",
    "print(\"Group A stats: \\n\")\n",
    "print(groupA['Read_times (minutes)'].describe())\n",
    "print(\"\")\n",
    "print(\"Group B stats: \\n\")\n",
    "print(groupB['Read_times (minutes)'].describe())"
   ]
  },
  {
   "cell_type": "markdown",
   "id": "de033f27",
   "metadata": {},
   "source": [
    "Run the one sided t-test\n",
    "\n",
    "I'm testing if Group B (readers with a TOC) has a higher mean than Group A (without a TOC)\n",
    "My alpha level = 0.10. I would typically set my alpha to 0.05 since that's been the standard value I set for most of my problems. I set it slightly higher because I don't need my average read time to be much greater than what it is currently. This work is for exploratory purposes rather than for making long term blog style changes. If I am 90% confident that it does increase the read time, then that's good enough. \n",
    "\n",
    "Null hypothesis: u_B <= u_A\n",
    "alternative hypothesis: u_B > u_A"
   ]
  },
  {
   "cell_type": "code",
   "execution_count": 30,
   "id": "bafa1991",
   "metadata": {},
   "outputs": [
    {
     "name": "stdout",
     "output_type": "stream",
     "text": [
      " t value is:  -0.3572416642113376\n",
      " T value is negative - uB is not greater than uA\n",
      "The p-value is > alpha. We cannot reject the null hypothesis.\n"
     ]
    }
   ],
   "source": [
    "t_stat, p_two_sided = stats.ttest_ind(groupB['Read_times (minutes)'], groupA['Read_times (minutes)'], equal_var=False) \n",
    "# equal_var = False means Welch's test since the variance between the two groups are not equal. \n",
    "\n",
    "if t_stat > 0:\n",
    "    # we can do a one side t-test \n",
    "    p_one_sided = p_two_sided / 2\n",
    "    print(\"One sided p-value (uB > uA): \", p_one_sided)\n",
    "else:\n",
    "    print(\" t value is: \", t_stat)\n",
    "    print(\" T value is negative - uB is not greater than uA\")\n",
    "    p_one_sided = 1\n",
    "\n",
    "alpha = 0.10\n",
    "\n",
    "if p_one_sided < alpha:\n",
    "    print(\"Our test results is statistically significant. We can reject the null hypothesis. There is enough evidence to suggest that having a table of contents increases reader engagement time.\")\n",
    "else:\n",
    "    print(\"The p-value is > alpha. We cannot reject the null hypothesis.\")\n",
    "\n"
   ]
  },
  {
   "cell_type": "markdown",
   "id": "97499a9e",
   "metadata": {},
   "source": [
    "### Final Thoughts & Conclusion"
   ]
  },
  {
   "cell_type": "markdown",
   "id": "41a432e4",
   "metadata": {},
   "source": [
    "The T value is negative, which means the mean read time for those who had a table of contents was less than the mean read time for those who didn't have it. \n",
    "\n",
    "I went back and asked if people used the table of contents - nobody used it, which was a little surprising. \n",
    "\n",
    "I would need to grab more samples to see if my results change; however, in the mean time, the current A/B test and people's feedback suggest that a table of contents won't change reader engagement time. It won't hurt to include one, but I shouldn't expect a noticeable change in reader engagement time. "
   ]
  }
 ],
 "metadata": {
  "kernelspec": {
   "display_name": "Python 3",
   "language": "python",
   "name": "python3"
  },
  "language_info": {
   "codemirror_mode": {
    "name": "ipython",
    "version": 3
   },
   "file_extension": ".py",
   "mimetype": "text/x-python",
   "name": "python",
   "nbconvert_exporter": "python",
   "pygments_lexer": "ipython3",
   "version": "3.12.3"
  }
 },
 "nbformat": 4,
 "nbformat_minor": 5
}
